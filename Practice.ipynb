{
 "cells": [
  {
   "cell_type": "code",
   "execution_count": 1,
   "metadata": {},
   "outputs": [],
   "source": [
    "# imports\n",
    "\n",
    "import os\n",
    "import nltk\n",
    "import nltk.corpus"
   ]
  },
  {
   "cell_type": "code",
   "execution_count": 3,
   "metadata": {},
   "outputs": [
    {
     "output_type": "stream",
     "name": "stdout",
     "text": "['stopwords', 'wordnet.zip', 'wordnet', 'stopwords.zip']\n"
    }
   ],
   "source": [
    "\n",
    "print(os.listdir(nltk.data.find('corpora')))"
   ]
  },
  {
   "cell_type": "code",
   "execution_count": 16,
   "metadata": {},
   "outputs": [
    {
     "output_type": "stream",
     "name": "stdout",
     "text": "NLTK Downloader\n---------------------------------------------------------------------------\n    d) Download   l) List    u) Update   c) Config   h) Help   q) Quit\n---------------------------------------------------------------------------\n\nDownload which package (l=list; x=cancel)?\n    Downloading package gutenberg to /home/clown/nltk_data...\n      Unzipping corpora/gutenberg.zip.\n\n---------------------------------------------------------------------------\n    d) Download   l) List    u) Update   c) Config   h) Help   q) Quit\n---------------------------------------------------------------------------\n"
    },
    {
     "output_type": "execute_result",
     "data": {
      "text/plain": "True"
     },
     "metadata": {},
     "execution_count": 16
    }
   ],
   "source": [
    "# this can be used to download any package of nltk\n",
    "\n",
    "nltk.download()"
   ]
  },
  {
   "cell_type": "code",
   "execution_count": 14,
   "metadata": {},
   "outputs": [
    {
     "output_type": "execute_result",
     "data": {
      "text/plain": "['The', 'Fulton', 'County', 'Grand', 'Jury', 'said', ...]"
     },
     "metadata": {},
     "execution_count": 14
    }
   ],
   "source": [
    "from nltk.corpus import brown\n",
    "brown.words()"
   ]
  },
  {
   "cell_type": "code",
   "execution_count": 18,
   "metadata": {},
   "outputs": [
    {
     "output_type": "execute_result",
     "data": {
      "text/plain": "['austen-emma.txt',\n 'austen-persuasion.txt',\n 'austen-sense.txt',\n 'bible-kjv.txt',\n 'blake-poems.txt',\n 'bryant-stories.txt',\n 'burgess-busterbrown.txt',\n 'carroll-alice.txt',\n 'chesterton-ball.txt',\n 'chesterton-brown.txt',\n 'chesterton-thursday.txt',\n 'edgeworth-parents.txt',\n 'melville-moby_dick.txt',\n 'milton-paradise.txt',\n 'shakespeare-caesar.txt',\n 'shakespeare-hamlet.txt',\n 'shakespeare-macbeth.txt',\n 'whitman-leaves.txt']"
     },
     "metadata": {},
     "execution_count": 18
    }
   ],
   "source": [
    "\n",
    "nltk.corpus.gutenberg.fileids()"
   ]
  },
  {
   "cell_type": "code",
   "execution_count": 20,
   "metadata": {},
   "outputs": [
    {
     "output_type": "stream",
     "name": "stdout",
     "text": "[ The King James Bible ] The Old Testament of the King James Bible The First Book of Moses : Called Genesis 1 : 1 In the beginning God created the heaven and the earth . 1 : 2 And the earth was without form , and void ; and darkness was upon the face of the deep . And the Spirit of God moved upon the face of the waters . 1 : 3 And God said , Let there be light : and there was light . 1 : 4 And God saw the light , that it was good : and God divided the light from the darkness . 1 : 5 And God called the light Day , and the darkness he called Night . And the evening and the morning were the first day . 1 : 6 And God said , Let there be a firmament in the midst of the waters , and let it divide the waters from the waters . 1 : 7 And God made the firmament , and divided the waters which were under the firmament from the waters which were above the firmament : and it was so . 1 : 8 And God called the firmament Heaven . And the evening and the morning were the second day . 1 : 9 And God said , Let the waters under the heaven be gathered together unto one place , and let the dry land appear : and it was so . 1 : 10 And God called the dry land Earth ; and the gathering together of the waters called he Seas : and God saw that it was good . 1 : 11 And God said , Let the earth bring forth grass , the herb yielding seed , and the fruit tree yielding fruit after his kind , whose seed is in itself , upon the earth : and it was so . 1 : 12 And the earth brought forth grass , and herb yielding seed after his kind , and the tree yielding fruit , whose seed was in itself , after his kind : and God saw that it was good . 1 : 13 And the evening and the morning were the third day . 1 : 14 And God said , Let there be lights in the firmament of the heaven to divide the day from the night ; and let them be for signs , and for seasons , and for days , and years : 1 : 15 And let them be for lights in the firmament of the heaven to give light upon the earth : and it was so . 1 : 16 And God made two great lights ; the greater light to rule the day , and the lesser light to rule the night : he made the stars also . 1 : 17 And God set them in the firmament of the heaven"
    }
   ],
   "source": [
    "# 500 words from bible-kjv\n",
    "words = nltk.corpus.gutenberg.words('bible-kjv.txt')\n",
    "for word in words[:500]:\n",
    "    print(word, sep=' ', end= ' ')"
   ]
  },
  {
   "cell_type": "code",
   "execution_count": 35,
   "metadata": {},
   "outputs": [
    {
     "output_type": "stream",
     "name": "stdout",
     "text": "['Today', ',', 'machine', 'learning', 'is', 'used', 'in', 'a', 'wide', 'range', 'of', 'applications', '.', 'Perhaps', 'one', 'of', 'the', 'most', 'well-known', 'examples', 'of', 'machine', 'learning', 'in', 'action', 'is', 'therecommendation', 'engine', 'that', 'powers', 'Facebook', \"'s\", 'News', 'Feed.Facebook', 'uses', 'machine', 'learning', 'to', ';', 'personalize', 'how', 'each', 'member', \"'s\", 'feed', 'is', 'delivered', '.', 'If', 'a', 'member', 'frequently', 'stops', 'to', 'read', 'a', 'particular', 'group', '’', 's', 'posts', ',', 'the', 'recommendation', 'engine', 'will', 'start', 'to', 'show', 'more', 'of', 'that', 'group', '’', 's', 'activity', 'earlier', 'in', 'the', 'feed', '.']\n\nLength of tokens :  81\n"
    }
   ],
   "source": [
    "# Tokenization\n",
    "\n",
    "# sample paragraph\n",
    "ML = ''' Today, machine learning is used in a wide range of applications. Perhaps one of the most \n",
    "\n",
    "well-known examples of machine learning in action is therecommendation engine that powers Facebook's News Feed.Facebook uses machine learning to ;\n",
    "\n",
    "personalize how each member's feed is delivered. If a member frequently stops to read a particular \n",
    "\n",
    "group’s posts, the recommendation engine will start to show more of that group’s activity earlier \n",
    "in the feed. '''\n",
    "\n",
    "from nltk.tokenize import word_tokenize\n",
    "tokens = word_tokenize(ML) # converting into tokens\n",
    "print(tokens)\n",
    "print(\"\\nLength of tokens : \", len(tokens))\n",
    "\n",
    "\n"
   ]
  },
  {
   "cell_type": "code",
   "execution_count": 23,
   "metadata": {},
   "outputs": [
    {
     "output_type": "execute_result",
     "data": {
      "text/plain": "FreqDist({'of': 4, 'machine': 3, 'learning': 3, 'is': 3, 'in': 3, 'a': 3, '.': 3, 'the': 3, 'to': 3, ',': 2, ...})"
     },
     "metadata": {},
     "execution_count": 23
    }
   ],
   "source": [
    "# word count of tokens i,e frequency of words in tokens\n",
    "from nltk.probability import FreqDist\n",
    "frd = FreqDist()\n",
    "\n",
    "for token in tokens:\n",
    "    frd[token.lower()] +=1\n",
    "\n",
    "frd\n",
    "\n"
   ]
  },
  {
   "cell_type": "code",
   "execution_count": 24,
   "metadata": {},
   "outputs": [
    {
     "output_type": "stream",
     "name": "stdout",
     "text": "number of distinct words in entire tokens :  52\n"
    }
   ],
   "source": [
    "# get the distinct tokens without repeated words\n",
    "\n",
    "print('number of distinct words in entire tokens : ',len(frd))\n"
   ]
  },
  {
   "cell_type": "code",
   "execution_count": 25,
   "metadata": {},
   "outputs": [
    {
     "output_type": "stream",
     "name": "stdout",
     "text": "[('of', 4), ('machine', 3), ('learning', 3), ('is', 3), ('in', 3), ('a', 3), ('.', 3), ('the', 3), ('to', 3), (',', 2)]\n"
    }
   ],
   "source": [
    "# most common tokens i,e words with high  frequency\n",
    "top_ten = frd.most_common(10)\n",
    "print(top_ten)"
   ]
  },
  {
   "cell_type": "code",
   "execution_count": 36,
   "metadata": {},
   "outputs": [
    {
     "output_type": "stream",
     "name": "stdout",
     "text": "There are : 4  new lines seperating the paragraph  \n"
    }
   ],
   "source": [
    "# get the number of paragraphs seperated by new line\n",
    "from nltk.tokenize import blankline_tokenize\n",
    "blank_tokens = blankline_tokenize(ML)\n",
    "print('There are :',len(blank_tokens),' new lines seperating the paragraph  ')\n"
   ]
  },
  {
   "cell_type": "code",
   "execution_count": 37,
   "metadata": {},
   "outputs": [
    {
     "output_type": "execute_result",
     "data": {
      "text/plain": "' Today, machine learning is used in a wide range of applications. Perhaps one of the most'"
     },
     "metadata": {},
     "execution_count": 37
    }
   ],
   "source": [
    "# Print a particuar paragraph\n",
    "index_number = 0 # first paragraph change the index to print others\n",
    "blank_tokens[index_number]"
   ]
  },
  {
   "cell_type": "code",
   "execution_count": 46,
   "metadata": {},
   "outputs": [
    {
     "output_type": "stream",
     "name": "stdout",
     "text": "Bigrams :  [('Nothing', 'Personel'), ('Personel', ','), (',', 'Just'), ('Just', 'Business')]\nTrigrams :  [('Nothing', 'Personel', ','), ('Personel', ',', 'Just'), (',', 'Just', 'Business')]\nBigrams :  [('Nothing', 'Personel', ',', 'Just'), ('Personel', ',', 'Just', 'Business')]\n"
    }
   ],
   "source": [
    "# make bigrams trigrams and ngram tokens\n",
    "str = \"Nothing Personel,Just Business\"\n",
    "from nltk.util import bigrams, trigrams , ngrams\n",
    "\n",
    "str_tokens = word_tokenize(str)\n",
    "\n",
    "\n",
    "print(\"Bigrams : \",list(bigrams(str_tokens)))\n",
    "\n",
    "print(\"Trigrams : \",list(trigrams(str_tokens)))\n",
    "\n",
    "# for n grams We need to pass the value N , N = 2 for bigram, N = 3 for Trigram and so on...\n",
    "N = 4\n",
    "print(\"Bigrams : \",list(ngrams(str_tokens, N))) \n",
    "\n"
   ]
  },
  {
   "cell_type": "code",
   "execution_count": null,
   "metadata": {},
   "outputs": [],
   "source": [
    "# Steming : Normalize every word into its base root form\n"
   ]
  }
 ],
 "metadata": {
  "language_info": {
   "codemirror_mode": {
    "name": "ipython",
    "version": 3
   },
   "file_extension": ".py",
   "mimetype": "text/x-python",
   "name": "python",
   "nbconvert_exporter": "python",
   "pygments_lexer": "ipython3",
   "version": "3.7.5-final"
  },
  "orig_nbformat": 2,
  "kernelspec": {
   "name": "python37564bit0101c40685f74ac2afe19d6555c1a2e3",
   "display_name": "Python 3.7.5 64-bit"
  }
 },
 "nbformat": 4,
 "nbformat_minor": 2
}